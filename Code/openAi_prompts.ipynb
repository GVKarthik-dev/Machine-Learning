{
  "cells": [
    {
      "cell_type": "code",
      "execution_count": 12,
      "id": "62fef94a-e1cf-4654-896f-12ac2d8d4d63",
      "metadata": {
        "id": "62fef94a-e1cf-4654-896f-12ac2d8d4d63"
      },
      "outputs": [],
      "source": [
        "!pip install -q langchain"
      ]
    },
    {
      "cell_type": "code",
      "execution_count": 13,
      "id": "a86997df-477d-485b-a909-2ec983ec8181",
      "metadata": {
        "id": "a86997df-477d-485b-a909-2ec983ec8181"
      },
      "outputs": [],
      "source": [
        "!pip install -q openai"
      ]
    },
    {
      "cell_type": "code",
      "execution_count": 14,
      "id": "ce7d348b-4f9f-45dd-bf9d-9324a6c9d766",
      "metadata": {
        "id": "ce7d348b-4f9f-45dd-bf9d-9324a6c9d766"
      },
      "outputs": [],
      "source": [
        "import os\n",
        "\n",
        "os.environ['OPENAI_API_KEY'] ='YOUR OPEN TOKEN'"
      ]
    },
    {
      "cell_type": "code",
      "execution_count": 15,
      "id": "2bd9f41c-861d-41f0-a818-384949b64f58",
      "metadata": {
        "id": "2bd9f41c-861d-41f0-a818-384949b64f58"
      },
      "outputs": [],
      "source": [
        "from langchain.llms import OpenAI\n",
        "llm = OpenAI()"
      ]
    },
    {
      "cell_type": "code",
      "execution_count": null,
      "id": "FIdc0W8182YW",
      "metadata": {
        "id": "FIdc0W8182YW"
      },
      "outputs": [],
      "source": []
    },
    {
      "cell_type": "code",
      "execution_count": null,
      "id": "a3zz7GzC82Wb",
      "metadata": {
        "id": "a3zz7GzC82Wb"
      },
      "outputs": [],
      "source": [
        "# from openai import OpenAI\n",
        "\n",
        "# client = OpenAI()\n",
        "# defaults to getting the key using os.environ.get(\"OPENAI_API_KEY\")\n",
        "# if you saved the key under a different environment variable name, you can do something like:\n",
        "# client = OpenAI(\n",
        "#   api_key=os.environ.get(\"CUSTOM_ENV_NAME\"),\n",
        "# )"
      ]
    },
    {
      "cell_type": "code",
      "execution_count": null,
      "id": "Fz0n0dZE82Vt",
      "metadata": {
        "id": "Fz0n0dZE82Vt"
      },
      "outputs": [],
      "source": []
    },
    {
      "cell_type": "code",
      "execution_count": 16,
      "id": "704c8540-161f-4320-b626-14f7adeecc41",
      "metadata": {
        "colab": {
          "base_uri": "https://localhost:8080/"
        },
        "id": "704c8540-161f-4320-b626-14f7adeecc41",
        "outputId": "5eea7659-1379-4998-d10a-420908918abe"
      },
      "outputs": [
        {
          "name": "stdout",
          "output_type": "stream",
          "text": [
            "\n",
            "\n",
            "The seven wonders of the world are:\n",
            "\n",
            "1. The Great Pyramid of Giza\n",
            "2. The Hanging Gardens of Babylon\n",
            "3. The Temple of Artemis at Ephesus\n",
            "4. The Statue of Zeus at Olympia\n",
            "5. The Mausoleum at Halicarnassus\n",
            "6. The Colossus of Rhodes\n",
            "7. The Lighthouse of Alexandria\n"
          ]
        }
      ],
      "source": [
        "response = llm.invoke(\"List the seven wonders of the world.\")\n",
        "print(response)"
      ]
    },
    {
      "cell_type": "code",
      "execution_count": 18,
      "id": "cbe48c1d-0675-4aca-ba7a-fae6795b451d",
      "metadata": {
        "id": "cbe48c1d-0675-4aca-ba7a-fae6795b451d"
      },
      "outputs": [],
      "source": []
    },
    {
      "cell_type": "markdown",
      "id": "jrEZZsrXCAzp",
      "metadata": {
        "id": "jrEZZsrXCAzp"
      },
      "source": [
        "## Translations"
      ]
    },
    {
      "cell_type": "code",
      "execution_count": 19,
      "id": "9NDNSK0cCBef",
      "metadata": {
        "colab": {
          "base_uri": "https://localhost:8080/"
        },
        "id": "9NDNSK0cCBef",
        "outputId": "ba02c294-825a-42c6-a35e-a3682e492ce3"
      },
      "outputs": [
        {
          "name": "stdout",
          "output_type": "stream",
          "text": [
            "\n",
            "\n",
            "ఈరోజు ఒక మంచి రోజు.\n"
          ]
        }
      ],
      "source": [
        "response=llm.invoke(\"Act as English to telugu translator,translate the text into telugu Text:Today is a good day.\")\n",
        "print(response)"
      ]
    },
    {
      "cell_type": "code",
      "execution_count": 20,
      "id": "KYdBxajYCban",
      "metadata": {
        "colab": {
          "base_uri": "https://localhost:8080/"
        },
        "id": "KYdBxajYCban",
        "outputId": "68f3bc3c-c67b-4616-dc4f-0feb30e77a75"
      },
      "outputs": [
        {
          "name": "stdout",
          "output_type": "stream",
          "text": [
            "\n",
            "\n",
            "Aujourd'hui est une bonne journée.\n"
          ]
        }
      ],
      "source": [
        "response=llm.invoke(\"Act as French teacher and translate English Text:Today is a good day.\")\n",
        "print(response)"
      ]
    },
    {
      "cell_type": "code",
      "execution_count": 22,
      "id": "xvgzMPltCbZA",
      "metadata": {
        "colab": {
          "base_uri": "https://localhost:8080/"
        },
        "id": "xvgzMPltCbZA",
        "outputId": "fdc829cd-3a3b-4581-dbd7-2894bda9aa01"
      },
      "outputs": [
        {
          "name": "stdout",
          "output_type": "stream",
          "text": [
            " for your help\n",
            "\n",
            "あなたの助けに感謝します。本当にありがとうございました。\n"
          ]
        }
      ],
      "source": [
        "response=llm.invoke(\"Act as Japanese teacher and translate English Text: Thank you for your help. I'm really thankful to you.\")\n",
        "print(response)"
      ]
    },
    {
      "cell_type": "markdown",
      "id": "sEVJrNJtCcSo",
      "metadata": {
        "id": "sEVJrNJtCcSo"
      },
      "source": [
        "## Summerization"
      ]
    },
    {
      "cell_type": "code",
      "execution_count": 23,
      "id": "BekIsmd1CbYO",
      "metadata": {
        "colab": {
          "base_uri": "https://localhost:8080/"
        },
        "id": "BekIsmd1CbYO",
        "outputId": "528adfa8-6945-4a18-9d3b-e1e8a821d083"
      },
      "outputs": [
        {
          "name": "stdout",
          "output_type": "stream",
          "text": [
            "\n",
            "\n",
            "One Piece is a popular Japanese anime series that follows the adventures of Monkey D. Luffy, a young pirate who sets out to find the ultimate treasure known as the One Piece. Along the way, he forms a diverse and powerful crew of friends, including a skilled swordsman, a navigator, and a chef. Together, they battle against other pirates, government officials, and mythical creatures in order to reach their goal. Along the way, they also uncover the dark secrets of the mysterious world they live in and the true nature of the One Piece treasure.\n",
            "\n",
            "The anime is known for its unique blend of action, humor, and emotional storytelling. Each episode is filled with intense fight scenes, hilarious moments, and heartwarming character development. The art style is vibrant and dynamic, bringing the diverse and fantastical world of One Piece to life. With over 900 episodes and counting, One Piece has captivated audiences around the world with its epic story and lovable characters, making it a must-watch for any anime fan.\n"
          ]
        }
      ],
      "source": [
        "response=llm.invoke(\" provide summary of Japanese anime one piece in two paragraph\")\n",
        "print(response)"
      ]
    },
    {
      "cell_type": "code",
      "execution_count": 25,
      "id": "2RZthMi9CdCS",
      "metadata": {
        "colab": {
          "base_uri": "https://localhost:8080/"
        },
        "id": "2RZthMi9CdCS",
        "outputId": "7a34cee9-f4e9-479f-f497-9154d2ca2037"
      },
      "outputs": [
        {
          "name": "stdout",
          "output_type": "stream",
          "text": [
            "\n",
            "\n",
            "Salaar is an upcoming Indian action thriller movie directed by Prashanth Neel. The movie stars Prabhas in the lead role, along with Shruti Haasan, Madhu Guruswamy, and Jagapathi Babu in pivotal roles. The film is produced by Vijay Kiragandur under the banner of Hombale Films. It is expected to be released in multiple languages, including Hindi, Tamil, Telugu, and Kannada.\n",
            "\n",
            "The story of Salaar revolves around the character of Prabhas, who plays the role of a powerful and ruthless gangster. He is known for his brutal ways and is feared by everyone in the underworld. However, things take a turn when he meets Shruti Haasan's character, who challenges his beliefs and ideologies. The film promises to have high-octane action sequences and a gripping storyline. With a stellar cast and an experienced director, Salaar is expected to be a blockbuster hit among audiences. \n"
          ]
        }
      ],
      "source": [
        "response=llm.invoke(\" provide summary of Indian movie salaar in two paragraph\")\n",
        "print(response)"
      ]
    },
    {
      "cell_type": "code",
      "execution_count": 26,
      "id": "h2rw7XkgCdgr",
      "metadata": {
        "colab": {
          "base_uri": "https://localhost:8080/"
        },
        "id": "h2rw7XkgCdgr",
        "outputId": "fc3b5fe9-e339-4e69-d8bb-cae474ad78c7"
      },
      "outputs": [
        {
          "name": "stdout",
          "output_type": "stream",
          "text": [
            "\n",
            "\n",
            "Generators in Python are functions that return an iterable sequence of values, one at a time, instead of returning a single value like a regular function. They are used to create iterators, making it possible to iterate over a large set of data without storing the entire sequence in memory.\n",
            "\n",
            "Example:\n",
            "Let's say we want to generate a list of even numbers from 0 to 10. We can use a generator function to achieve this:\n",
            "\n",
            "def even_numbers():\n",
            "    for i in range(0, 11, 2):\n",
            "        yield i \n",
            "\n",
            "In the above code, the keyword \"yield\" is used to return a value from the function, but it doesn't end the function execution like the \"return\" keyword. This allows the function to resume from where it left off, making it possible to generate a sequence of values.\n",
            "\n",
            "Now, when we call the function, it returns a generator object:\n",
            "\n",
            "even_nums = even_numbers()\n",
            "print(even_nums)\n",
            "# Output: <generator object even_numbers at 0x000002B59E4F5E60>\n",
            "\n",
            "To retrieve the values from the generator, we can use the \"next()\" function:\n",
            "\n",
            "print(next(even_nums))\n",
            "# Output: 0\n",
            "\n",
            "print(next(even_nums))\n",
            "# Output: 2\n",
            "\n",
            "\n"
          ]
        }
      ],
      "source": [
        "response=llm.invoke(\" provide summary of generators in python with an example\")\n",
        "print(response)"
      ]
    },
    {
      "cell_type": "markdown",
      "id": "mnc1rFIGEoUR",
      "metadata": {
        "id": "mnc1rFIGEoUR"
      },
      "source": [
        "## Named Entities"
      ]
    },
    {
      "cell_type": "code",
      "execution_count": 27,
      "id": "5X7KqlKNEosN",
      "metadata": {
        "id": "5X7KqlKNEosN"
      },
      "outputs": [],
      "source": [
        "Sentence_1 = 'Introducing the HomeLink Pro+, a cutting-edge Smart Home Hub designed to seamlessly integrate with all major smart home ecosystems. Boasting compatibility with Wi-Fi, Zigbee, Z-Wave, and Bluetooth, this hub ensures a unified and connected home experience. Powered by the HomeOS 5.0 operating system, it offers a user-friendly interface for effortless management of smart devices, creating a centralized control point for your connected home.'\n",
        "\n",
        "Sentence_2 = 'Elevate your fitness journey with the FitPulse Elite X, a state-of-the-art fitness tracker. Monitor your workouts with precision using its 15 different workout modes and gain valuable health insights through advanced heart rate variability analysis. The FitPulse Elite X seamlessly syncs with both iOS and Android health apps, ensuring that you have a comprehensive view of your well-being, making it the perfect companion for your active lifestyle.'\n",
        "\n",
        "Sentence_3 = 'Embark on a sustainable and eco-friendly journey with the GreenDrive Plus, the next-generation EcoDrive Navigator. This innovative navigation system is equipped with solar charging capabilities, reducing your carbon footprint while on the road. The AI-driven EcoRoutes feature ensures minimal environmental impact by guiding you through routes that prioritize energy efficiency. Compatible with electric and hybrid cars, the GreenDrive Plus is the navigator of choice for environmentally conscious drivers.'"
      ]
    },
    {
      "cell_type": "code",
      "execution_count": 28,
      "id": "iTe_fbZXEpPL",
      "metadata": {
        "colab": {
          "base_uri": "https://localhost:8080/"
        },
        "id": "iTe_fbZXEpPL",
        "outputId": "b235fe1d-5342-4a9b-d29a-e948e404573c"
      },
      "outputs": [
        {
          "name": "stdout",
          "output_type": "stream",
          "text": [
            "\n",
            "\n",
            "1. HomeLink Pro+\n",
            "2. Smart Home Hub\n",
            "3. Wi-Fi\n",
            "4. Zigbee\n",
            "5. Z-Wave\n",
            "6. Bluetooth\n",
            "7. HomeOS 5.0\n",
            "8. Operating system\n",
            "9. User-friendly interface\n",
            "10. Smart devices\n",
            "11. Centralized control point\n",
            "12. Connected home\n"
          ]
        }
      ],
      "source": [
        "response=llm.invoke('provide me named entities from the text '+ Sentence_1)\n",
        "print(response)"
      ]
    },
    {
      "cell_type": "code",
      "execution_count": 29,
      "id": "cpwhOBqpEp7G",
      "metadata": {
        "colab": {
          "base_uri": "https://localhost:8080/"
        },
        "id": "cpwhOBqpEp7G",
        "outputId": "ead08c1b-6f0d-445e-cd8b-eeb22c8e73e3"
      },
      "outputs": [
        {
          "name": "stdout",
          "output_type": "stream",
          "text": [
            "\n",
            "\n",
            "1. FitPulse Elite X\n",
            "2. iOS\n",
            "3. Android\n",
            "4. Fitness tracker\n",
            "5. Workouts\n",
            "6. Heart rate variability\n",
            "7. Analysis\n",
            "8. Health insights\n",
            "9. State-of-the-art\n",
            "10. Companion\n",
            "11. Active lifestyle\n"
          ]
        }
      ],
      "source": [
        "response=llm.invoke('provide me named entities from the text '+ Sentence_2)\n",
        "print(response)"
      ]
    },
    {
      "cell_type": "code",
      "execution_count": 30,
      "id": "hVT4kIMXG6Zl",
      "metadata": {
        "colab": {
          "base_uri": "https://localhost:8080/"
        },
        "id": "hVT4kIMXG6Zl",
        "outputId": "eb784caa-5f7a-4db1-a57f-405ef93acae9"
      },
      "outputs": [
        {
          "name": "stdout",
          "output_type": "stream",
          "text": [
            "\n",
            "\n",
            "1. GreenDrive Plus \n",
            "2. EcoDrive Navigator \n",
            "3. Solar charging capabilities \n",
            "4. Carbon footprint \n",
            "5. AI-driven \n",
            "6. EcoRoutes \n",
            "7. Environmental impact \n",
            "8. Energy efficiency \n",
            "9. Electric cars \n",
            "10. Hybrid cars \n",
            "11. Environmentally conscious drivers\n"
          ]
        }
      ],
      "source": [
        "response=llm.invoke('provide me named entities from the text '+ Sentence_3)\n",
        "print(response)"
      ]
    },
    {
      "cell_type": "markdown",
      "id": "waXUhMVzG-Yn",
      "metadata": {
        "id": "waXUhMVzG-Yn"
      },
      "source": [
        "## Question and answering"
      ]
    },
    {
      "cell_type": "code",
      "execution_count": 31,
      "id": "pFJHcWhxG9J2",
      "metadata": {
        "colab": {
          "base_uri": "https://localhost:8080/"
        },
        "id": "pFJHcWhxG9J2",
        "outputId": "fe37c482-f41c-4aa9-f3ab-d821874900c7"
      },
      "outputs": [
        {
          "name": "stdout",
          "output_type": "stream",
          "text": [
            "\n",
            "\n",
            "As of September 2021, the Prime Minister of India is Narendra Modi.\n"
          ]
        }
      ],
      "source": [
        "response=llm.invoke('who is the PM of India?')\n",
        "print(response)"
      ]
    },
    {
      "cell_type": "code",
      "execution_count": 32,
      "id": "OHtBKXzlHhIe",
      "metadata": {
        "colab": {
          "base_uri": "https://localhost:8080/"
        },
        "id": "OHtBKXzlHhIe",
        "outputId": "d16075b2-7d27-42e5-85cd-3469b434c532"
      },
      "outputs": [
        {
          "name": "stdout",
          "output_type": "stream",
          "text": [
            "\n",
            "\n",
            "The capital of India is New Delhi.\n"
          ]
        }
      ],
      "source": [
        "response=llm.invoke('what is the capital of India?')\n",
        "print(response)"
      ]
    },
    {
      "cell_type": "code",
      "execution_count": 33,
      "id": "DLBRfgV3Hpyq",
      "metadata": {
        "colab": {
          "base_uri": "https://localhost:8080/"
        },
        "id": "DLBRfgV3Hpyq",
        "outputId": "be70c560-122a-4efa-9cdb-303a2dcbe0b9"
      },
      "outputs": [
        {
          "name": "stdout",
          "output_type": "stream",
          "text": [
            "\n",
            "The poorest state in India is Bihar, with a poverty rate of 33.7%.\n"
          ]
        }
      ],
      "source": [
        "response=llm.invoke('what is the poorest state in India?')\n",
        "print(response)"
      ]
    },
    {
      "cell_type": "markdown",
      "id": "-4zQcRjwH71I",
      "metadata": {
        "id": "-4zQcRjwH71I"
      },
      "source": [
        "## chain of thought/Resononing"
      ]
    },
    {
      "cell_type": "code",
      "execution_count": 36,
      "id": "LZDzYft6H7gi",
      "metadata": {
        "id": "LZDzYft6H7gi"
      },
      "outputs": [],
      "source": [
        "Sentence_1 = 'Roger has 5 tennis balls. He buys 2 more cans of tennis balls. Each can has 3 tennis balls. How many tennis balls does he have now?'\n"
      ]
    },
    {
      "cell_type": "code",
      "execution_count": 37,
      "id": "u-5SaC-IH8td",
      "metadata": {
        "colab": {
          "base_uri": "https://localhost:8080/"
        },
        "id": "u-5SaC-IH8td",
        "outputId": "da8bcc04-652f-4820-efa0-b2f725aa469e"
      },
      "outputs": [
        {
          "name": "stdout",
          "output_type": "stream",
          "text": [
            "\n",
            "\n",
            "Roger now has 11 tennis balls.\n"
          ]
        }
      ],
      "source": [
        "response=llm.invoke(Sentence_1)\n",
        "print(response)"
      ]
    },
    {
      "cell_type": "code",
      "execution_count": 38,
      "id": "crnJCGspH7Iy",
      "metadata": {
        "colab": {
          "base_uri": "https://localhost:8080/"
        },
        "id": "crnJCGspH7Iy",
        "outputId": "2f680bc7-00b0-4da5-ce51-329a998a8952"
      },
      "outputs": [
        {
          "name": "stdout",
          "output_type": "stream",
          "text": [
            "\n",
            "The cafeteria now has 9 apples.\n"
          ]
        }
      ],
      "source": [
        "Sentence_2 = 'The cafeteria had 23 apples. If they used 20 to make lunch and bought 6 more, how many apples do they have?'\n",
        "response=llm.invoke(Sentence_2)\n",
        "print(response)"
      ]
    },
    {
      "cell_type": "markdown",
      "id": "5skvJVyKJmhO",
      "metadata": {
        "id": "5skvJVyKJmhO"
      },
      "source": [
        "## Sentimental Analysis"
      ]
    },
    {
      "cell_type": "code",
      "execution_count": 41,
      "id": "JkomTv7UJm-4",
      "metadata": {
        "colab": {
          "base_uri": "https://localhost:8080/"
        },
        "id": "JkomTv7UJm-4",
        "outputId": "e72b8b77-7cb3-4bee-c2f3-18b8350f2be2"
      },
      "outputs": [
        {
          "name": "stdout",
          "output_type": "stream",
          "text": [
            "\n",
            "\n",
            "Positive \n"
          ]
        }
      ],
      "source": [
        "response=llm.invoke(''' from the below text, provide me sentiment movie\n",
        "Actor Nani, who is gearing up for the release of his Telugu film Dasara, has opened up about the possibility of reuniting with SS Rajamouli for Eega 2. Released in 2012, Eega became a national phenomenon after it was dubbed and released in Hindi as Makkhi, a story about a guy who is born again as a housefly to avenge his own death. Nani has said in an interview that whenever the sequel gets announced, it’ll have the biggest hype of all time. (Also read: Nani invokes Shah Rukh Khan's DDLJ while giving response to Twitter user comparing Dasara and Pushpa)\n",
        "\n",
        "Directed by SS Rajamouli, Eega (2012) starred Nani, Samantha Ruth Prabhu and Kichcha Sudeep.\n",
        "Eega marked the maiden collaboration between Rajamouli and Nani. It also co-starred Samantha Ruth Prabhu and Kichcha Sudeep in key roles. The film was a massive success at the box office.\n",
        "\n",
        "Discover the thrill of cricket like never before, exclusively on HT. Explore now!\n",
        "In an interview with Pinkvilla, Nani said he and SS Rajamouli discuss on and off about the sequel idea. “We keep talking about it now and then. I tell him whenever the sequel gets announced, it’ll have the biggest hype of all time. He cracked something so amazing 10 years ago with limited access to CG. With the kind of power he possesses now, he can get the best of the Hollywood technicians if he plans to do the second part,” Nani said.\n",
        "\n",
        "Made on a limited budget back in 2012, Eega was a huge money spinner at the box office. Apart from the Telugu version, the film did extremely well in Hindi and Tamil too.\n",
        "\n",
        "Meanwhile, Nani’s Dasara is gearing up for release on March 30. Speaking at the teaser launch recently, Nani said: “Last year, RRR came from Telugu cinema. KGF and Kantara came from Kannada cinema. I can confidently and with a lot of pride say that Dasara will come from Telugu cinema in 2023.”\n",
        "\n",
        "Nani also said that Dasara will be a career-defining film for him. “For a lot of people who’ve said I don’t work out of my comfort zone, this will be the answer. It’s a project that I have great expectations from and I’m sure audiences won’t be disappointed.”\n",
        "\n",
        "Originally shot in Telugu, Dasara will be released in Tamil, Hindi, Malayalam and Kannada. It also stars Keerthy Suresh, Shine Tom Chacko and Sai Kumar in key roles.''')\n",
        "print(response)"
      ]
    },
    {
      "cell_type": "code",
      "execution_count": 45,
      "id": "16fvXhVUJnsD",
      "metadata": {
        "colab": {
          "base_uri": "https://localhost:8080/"
        },
        "id": "16fvXhVUJnsD",
        "outputId": "0c4a4c20-131f-47ab-acfe-275654ac6fed"
      },
      "outputs": [
        {
          "name": "stdout",
          "output_type": "stream",
          "text": [
            "\n",
            "\n",
            "The sentiment of this movie could be described as negative or critical.\n"
          ]
        }
      ],
      "source": [
        "response=llm.invoke(''' from the below text, provide me sentiment movie\n",
        "Hi. This is a review of the movie Animal.\n",
        "A film that’s neither entertaining nor has anything to say. The cinematic equivalent of a teenager having a hormonal temper tantrum.\n",
        "Ranbir Kapoor is Ranvijay, who, as you probably surmised from the trailer has everything money can buy, except his father’s love and attention. Never mind his poor mum enabling his bad behavior, all Vijay wants is to be able to spend his father Balbir’s birthdays with him, again mother, very much alive and standing around looking sad, is inconsequential. Denied this love, Vijay slowly turns into an “animal”, with uncontrollable instinct, acting upon every single intrusive thought in his man-brain. Also because Balbir is the richest or one of the richest men in India, nothing Vijay does, including straight-up mass murder, has any legal consequences. Law enforcement doesn’t exist in Balbir and Vijay’s world.\n",
        "The film takes place in flashbacks, and I tried to figure out why. The first scene is a prosthetically aged Ranbir Kapoor in the year 2056, telling a group of men an inane story about a monkey in a jungle. Just like this scene, much of Animal’s screenplay presents sequence upon gory sequence, purely for the shock value they provide. Violence for violence’s sake, sexism for sexism’s sake, declarations of masculinity only because one can. “Sadly it’s a man’s world”, Vijay says to his wife in a scene, without a hint of awareness. You don’t have to tell us twice.\n",
        "The entire film illustrates it being set in a man’s world, using as many bullets and murders as possible. It is not a lament, like Nikhil Nagesh Bhatt’s ultra-violent KILL that premiered at TIFF, where violence is portrayed as a way of showing the trappings of masculinity, of resorting to use your manhood as a tool when all else fails, the one thing that gives you’re an automatic advantage in the world, regardless of your social status. In KILL, Raghav Juyal and his men murder on a train, because it’s the only option they are left with, to gather wealth in a system that doesn’t work for them. In Animal, Vijay is violent because no one booked him for a psych evaluation as a teenager. In this slasher movie men protect the honor of their families as real men, using swords, axes, and guns, with enough references to penis and body hair underlining this declaration.\n",
        "Anil Kapoor is Balbir, a businessman so preoccupied with his empire, that he seemingly doesn’t even retaliate or care upon realizing a teacher at school has physically assaulted his son. While the actor is, you know very good at his job, especially in the yell-y scenes where he tries to parent his enfant terrible. Aside from this though, the character is a ping pong ball bouncing around of a screenplay desperately trying to justify its protagonist’s rage with some semblance of a reason WHY it is translating as murderous. When Balbir is not yelling vocational platitudes like “I run a business across three different time zones”, he sits behind an office desk silently simmering, allowing his progeny to rain hell, clearing his conscience with the occasional “I don’t agree with your methods”.\n",
        "As Ranbir Kapoor enters the film interrupting YET another wedding, with yet another embarrassing song performance, a sort of 4th wall breaks, reminding you how many times you’ve seen the actor do this before. Almost like reading our minds, then it goes “AHA! So you think you know Ranbir haan? Now let me show you what your wildest imagination could not have anticipated”. And that’s what Animal boils down to, intended to provoke “snowflakes” and opinionated critics of Vanga’s last outing, Kabir Singh, very carefully picking out commentary on that film, and giving it just a bit of a twist. So you were concerned at men applauding when Kabir slapped Preeti? Sure, Vijay will never slap his wife Geentanjali, played by Rashmika, and she will slap him, so when you bring up Vijay’s misogyny, these slaps can be invoked. Oh, you didn’t like how Kabir debased Preeti? Look how Geetanjali debases herself. It’s almost like Vijay fancies himself as a Napoleonic king. There is a scene in BOTH Ridley Scott’s Napoleon and Animal where this “conqueror” returns home to his nubile, attractive wife and makes her take her clothes off in front of the house help, presenting her body for him to admire and touch. While Ridley Scott’s Napoleon is seen through a comedic lens, as a pitiable fool who doesn’t realize all his heinous actions are leading him towards an embarrassing end, Vanga’s Vijay is heroic and tragic right till the end. Asking his audience to empathize with and love this sad, broken but strong man, who kills people because his father didn’t cut a birthday cake or two.\n",
        "I shall not and honestly CAN not get into all the misogyny, because anything a female film critic will have to say about this movie will be reduced to a feminist splitting hairs over a movie, there is enough in the length here to be used as a counter. “Oh, you don’t like that he asked Tripti Dimri to lick his shoe? But how about HER plans? You didn’t like how he treated his sisters haan? So a brother shouldn’t step in to protect his sisters?” These aren’t arguments that can be had, and frankly getting involved with them takes focus away from the larger discussion around the current climate of Hindi cinema that celebrates major movie stars and filmmakers coming together to propagate hot-tempered brutality as an acceptable, or perhaps only way of attained justice. Wickedness masquerading as goodness.\n",
        "I wondered if the script and story here were arc-less and pointless for a reason. Stitched mostly episodically, Animal never crescendos, because its protagonist is almost always very consistently, flatly angry. When at school a digitally de-aged Ranbir Kapoor shoots an AK47-looking assault rifle and drives boys off the road in his car, the rage in his small frame is proportionate to that in his bulkier figure in the climactic shirtless fight with Bobby Deol. From Delhi to Scotland, the journey is only external, not internal. Ranbir Kapoor is angry in the first scene and angry in the last.\n",
        "Animal isn’t written to present finesse in cinematic storytelling, character development, sub-plot, conflict, catharsis, or pathos. The film is a 3-and-a-half-hour-long bait for cultural commentators. It’s almost sad really. The craft of filmmaking is sacrificed for glamorous scenes where a group of masked men appears at a hotel to kill Vijay RIGHT as he is in another room doing an arms deal, which means harr tarah ka weapon is available. The seemingly Oldboy-inspired corridor ax fighting sequence is overlayed with dexterity over Bhupinder Babbal singing Arjan Vailly and it looks magnificent. Even though I wondered what the mask budget of the opposing team was, and why the footsoldiers kept their masks on as their ring leader, the most important guy who must conceal his identity immediately takes his off. Did they have trial fittings before being sent into action, 200 of them on their way to kill one man?\n",
        "Animal doesn’t exist in a reality you and I know and can perceive, neither is it convincing as a purely fantastical, melodramatic Bollywood film where disbelief must be suspended. When Vijay, in another fit of rage, kills a prominent man and all his stooges, with about 100 eyewitnesses, in the middle of a conference orchestrating what can only be described as a massacre, it is barely referenced again, the writing uninterested in tying loose ends, or satisfactorily culminating sub-plots. So, all I’m taking from this is, that India mein ultra-rich can get away with not just murder, but wholesale slaughter.\n",
        "And don’t come for me saying why I must invoke this as an “India” thing, the film invites you to look at its protagonist as a sort of ghar mein ghus ke maarega new age Indian man, something you’ve heard Hindi cinema espouse before. Background score is pointedly halted during a havan seen for Geetanjali to ask Vijay to drink cow urine, which he promptly does. During a fight sequence, a hybrid lawn-mower-esque bullet machine is emblazoned with Made In India, Upendra Limaye as a jumpy arms dealer Freddy proudly proclaims his weapons are an example of Atmanirbhar Bharat, yelling “salute the champion” after Vijay achieves his Vijay using said weapons.\n",
        "On the contrary, the bad guy played by Bobby Deol is Abrar Haque, a Muslim with three wives. As he murders someone during his third wedding, right in the introduction scene, in the sequence after, he summons all three of his wives into his bedroom, proceeding to violently rip their clothes. Giving the men in the audience a quick chuckle.\n",
        "In the bare-chested climatic sequence between Vijay and Abrar, the men decide to fight one on one. As their bodies collide, B Praak’s voice echoes “Papa mujhey aapka na hona maar dega”. If it weren’t so unintentionally hilarious, I would have been more impressed with the frankly genius casting of Bobby Deol as Ranbir Kapoor’s long-estranged cousin. “Identical twins” a man watching half-observes, and yeah, I buy it.\n",
        "But despite the gore, heavily underlined machismo, and provocative sexism, Animal is simply desperately dull. One could appreciate Amit Roy’s love for Ranbir Kapoor’s face and the close-ups he shoots of him, the dexterity of Vanga’s match-cuts in the edit, and Harshwardhan Rameshwar’s precise background scoring, but at 201 minutes, all of it blurs into a cacophony of blasts and blasphemy.\n",
        "Like I said, the treatment of women, mothers, wives, sisters, and girlfriends, is a bait the film wants us to rise to. Geetanjali forgives her husband’s atrocious disregard for her because he stood by her as she delivered his children. As she admonishes him for smoking in the middle of a church after he’s had heart surgery, he shoves his iPods in her ears where she can hear the two of them having sex for the first time, a recording he’s managed to retrieve from the black box of the plane this event occurred inside, immediately her anger fades, and she’s turned on…..?\n",
        "Call it what you will, Animal is not dishonest, Vijay goes so far as to tell his son he is a movie director.''')\n",
        "print(response)"
      ]
    },
    {
      "cell_type": "code",
      "execution_count": null,
      "id": "yica_IDAJndL",
      "metadata": {
        "id": "yica_IDAJndL"
      },
      "outputs": [],
      "source": []
    }
  ],
  "metadata": {
    "colab": {
      "provenance": []
    },
    "kernelspec": {
      "display_name": "Python 3 (ipykernel)",
      "language": "python",
      "name": "python3"
    },
    "language_info": {
      "codemirror_mode": {
        "name": "ipython",
        "version": 3
      },
      "file_extension": ".py",
      "mimetype": "text/x-python",
      "name": "python",
      "nbconvert_exporter": "python",
      "pygments_lexer": "ipython3",
      "version": "3.11.7"
    }
  },
  "nbformat": 4,
  "nbformat_minor": 5
}
