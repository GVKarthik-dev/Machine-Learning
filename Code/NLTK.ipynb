{
  "cells": [
    {
      "cell_type": "code",
      "execution_count": null,
      "metadata": {
        "colab": {
          "base_uri": "https://localhost:8080/"
        },
        "id": "833ILSixFHgC",
        "outputId": "b198576b-c7c7-4255-9114-a17c3883adc8"
      },
      "outputs": [
        {
          "name": "stdout",
          "output_type": "stream",
          "text": [
            "Collecting pywsd\n",
            "  Downloading pywsd-1.2.5-py3-none-any.whl (26.9 MB)\n",
            "\u001b[2K     \u001b[90m━━━━━━━━━━━━━━━━━━━━━━━━━━━━━━━━━━━━━━━━\u001b[0m \u001b[32m26.9/26.9 MB\u001b[0m \u001b[31m28.2 MB/s\u001b[0m eta \u001b[36m0:00:00\u001b[0m\n",
            "\u001b[?25hRequirement already satisfied: nltk in /usr/local/lib/python3.10/dist-packages (from pywsd) (3.8.1)\n",
            "Requirement already satisfied: numpy in /usr/local/lib/python3.10/dist-packages (from pywsd) (1.23.5)\n",
            "Requirement already satisfied: pandas in /usr/local/lib/python3.10/dist-packages (from pywsd) (1.5.3)\n",
            "Collecting wn==0.0.23 (from pywsd)\n",
            "  Downloading wn-0.0.23.tar.gz (31.6 MB)\n",
            "\u001b[2K     \u001b[90m━━━━━━━━━━━━━━━━━━━━━━━━━━━━━━━━━━━━━━━━\u001b[0m \u001b[32m31.6/31.6 MB\u001b[0m \u001b[31m15.1 MB/s\u001b[0m eta \u001b[36m0:00:00\u001b[0m\n",
            "\u001b[?25h  Preparing metadata (setup.py) ... \u001b[?25l\u001b[?25hdone\n",
            "Requirement already satisfied: six in /usr/local/lib/python3.10/dist-packages (from pywsd) (1.16.0)\n",
            "Requirement already satisfied: click in /usr/local/lib/python3.10/dist-packages (from nltk->pywsd) (8.1.7)\n",
            "Requirement already satisfied: joblib in /usr/local/lib/python3.10/dist-packages (from nltk->pywsd) (1.3.2)\n",
            "Requirement already satisfied: regex>=2021.8.3 in /usr/local/lib/python3.10/dist-packages (from nltk->pywsd) (2023.12.25)\n",
            "Requirement already satisfied: tqdm in /usr/local/lib/python3.10/dist-packages (from nltk->pywsd) (4.66.1)\n",
            "Requirement already satisfied: python-dateutil>=2.8.1 in /usr/local/lib/python3.10/dist-packages (from pandas->pywsd) (2.8.2)\n",
            "Requirement already satisfied: pytz>=2020.1 in /usr/local/lib/python3.10/dist-packages (from pandas->pywsd) (2023.4)\n",
            "Building wheels for collected packages: wn\n",
            "  Building wheel for wn (setup.py) ... \u001b[?25l\u001b[?25hdone\n",
            "  Created wheel for wn: filename=wn-0.0.23-py3-none-any.whl size=31792911 sha256=2d3eb592b40ac33704c2af5e39051def0e729460aeeb9baba8af6295173ed489\n",
            "  Stored in directory: /root/.cache/pip/wheels/a1/1a/7d/23a76ce45998af60e47466a694c237fa26023c5674b47672b2\n",
            "Successfully built wn\n",
            "Installing collected packages: wn, pywsd\n",
            "Successfully installed pywsd-1.2.5 wn-0.0.23\n"
          ]
        }
      ],
      "source": [
        "!pip install pywsd"
      ]
    },
    {
      "cell_type": "code",
      "execution_count": null,
      "metadata": {
        "colab": {
          "base_uri": "https://localhost:8080/"
        },
        "id": "mKeKzgjX0cPR",
        "outputId": "8996c73a-75ca-4795-aab8-0f6167abb3a6"
      },
      "outputs": [
        {
          "name": "stdout",
          "output_type": "stream",
          "text": [
            "Requirement already satisfied: nltk in /usr/local/lib/python3.10/dist-packages (3.8.1)\n",
            "Requirement already satisfied: click in /usr/local/lib/python3.10/dist-packages (from nltk) (8.1.7)\n",
            "Requirement already satisfied: joblib in /usr/local/lib/python3.10/dist-packages (from nltk) (1.3.2)\n",
            "Requirement already satisfied: regex>=2021.8.3 in /usr/local/lib/python3.10/dist-packages (from nltk) (2023.12.25)\n",
            "Requirement already satisfied: tqdm in /usr/local/lib/python3.10/dist-packages (from nltk) (4.66.1)\n"
          ]
        }
      ],
      "source": [
        "!pip install nltk"
      ]
    },
    {
      "cell_type": "code",
      "execution_count": null,
      "metadata": {
        "id": "7ebHbnPIofjT"
      },
      "outputs": [],
      "source": []
    },
    {
      "cell_type": "code",
      "execution_count": null,
      "metadata": {
        "colab": {
          "base_uri": "https://localhost:8080/"
        },
        "id": "hWdfyjKz05jj",
        "outputId": "5340f049-635e-4762-b999-105161284e61"
      },
      "outputs": [
        {
          "name": "stderr",
          "output_type": "stream",
          "text": [
            "[nltk_data] Downloading package punkt to /root/nltk_data...\n",
            "[nltk_data]   Package punkt is already up-to-date!\n",
            "[nltk_data] Downloading package wordnet to /root/nltk_data...\n",
            "[nltk_data]   Package wordnet is already up-to-date!\n",
            "[nltk_data] Downloading package averaged_perceptron_tagger to\n",
            "[nltk_data]     /root/nltk_data...\n",
            "[nltk_data]   Unzipping taggers/averaged_perceptron_tagger.zip.\n"
          ]
        },
        {
          "data": {
            "text/plain": [
              "True"
            ]
          },
          "execution_count": 38,
          "metadata": {},
          "output_type": "execute_result"
        }
      ],
      "source": [
        "import nltk\n",
        "nltk.download('punkt')\n",
        "nltk.download('wordnet')\n",
        "nltk.download('averaged_perceptron_tagger')"
      ]
    },
    {
      "cell_type": "code",
      "execution_count": null,
      "metadata": {
        "id": "fV3fnla705i7"
      },
      "outputs": [],
      "source": []
    },
    {
      "cell_type": "code",
      "execution_count": null,
      "metadata": {
        "id": "PDyJ3Hp2oe5A"
      },
      "outputs": [],
      "source": [
        "from nltk.tokenize import sent_tokenize"
      ]
    },
    {
      "cell_type": "code",
      "execution_count": null,
      "metadata": {
        "id": "v3hYSDLsoewk"
      },
      "outputs": [],
      "source": []
    },
    {
      "cell_type": "code",
      "execution_count": null,
      "metadata": {
        "id": "6iAY-ycunUIp"
      },
      "outputs": [],
      "source": [
        "text=\"\"\n",
        "with open(\"../DataSet/sample_text.txt\") as fh:\n",
        "    text = fh.readlines()\n",
        "    data= fh.read().replace('\\n', '')"
      ]
    },
    {
      "cell_type": "code",
      "execution_count": null,
      "metadata": {
        "colab": {
          "base_uri": "https://localhost:8080/"
        },
        "id": "J9wsOm_8nmRn",
        "outputId": "c049f736-e16d-4a18-a77b-53ac81debc71"
      },
      "outputs": [
        {
          "name": "stdout",
          "output_type": "stream",
          "text": [
            "['The Straw Hat Pirates leave for the island of Elegia to attend a concert by Uta, a world-famous singer. After Uta performs her first song (\"New Genesis\"), Luffy goes on stage to reunite with her, revealing that the two of them know each other because Uta is the adopted daughter of \"Red-Haired\" Shanks. They met when Shanks was based at Luffy\\'s hometown 12 years ago, but one day he returned from a voyage without her, claiming she had left to pursue a career as a singer.\\n', '\\n', 'Some pirate crews then attempt to kidnap Uta, but she easily subdues them by conjuring whatever she wants through song (\"I\\'m Invincible\"). Afterward, Uta tells Luffy that he should stop being a pirate, as she is going to make this concert last forever and create a world with only happiness and peace. When the Straw Hats resist the idea, Uta attacks and traps all of them (\"Backlight\") except Luffy, who is rescued by Trafalgar Law and Bartolomeo. Meanwhile, the Five Elders ruling the World Government deem Uta\\'s power a great threat to the world, and Marine Fleet Admiral Akainu orders a convoy of battleships led by Admirals Kizaru and Fujitora to go to Elegia and subdue her.\\n', '\\n', 'Luffy\\'s group is pursued by Uta and the concertgoers, and they meet Gordon, who is Uta\\'s adoptive father and the former king of Elegia. Gordon reveals that he raised Uta to be a great musician and kept her sheltered from the outside world, but when she attained worldwide fame, she began to learn of the suffering inflicted on a great number of her fans by pirates and so decided to put an end to the Pirate Era. Uta then arrives and forces Luffy\\'s group to escape, and Gordon pleads with her to not carry out her plan out of fear for her safety. However, Uta reveals she found an inscription of a song called \"Tot Musica\" that can unleash a great power, and immobilizes Gordon.\\n', '\\n', \"Luffy's group comes across Koby, Helmeppo, and Blueno who are operating undercover for the World Government. Koby reveals that Uta has the power of the Sing-Sing Fruit, which allows her to send people into a dream world known as the Sing-Sing World by singing to them. They and everyone else who watched the concert are trapped in this world, whose reality is completely controlled by Uta. The Sing-Sing World ceases to exist whenever Uta falls asleep; however, Uta has been consuming a drug called wake-shrooms that keeps her awake at all hours and drastically shortens her lifespan. If Uta were to die, everyone in the Sing-Sing World would be trapped there forever.\\n\", '\\n', 'In the real world, the Marine fleet arrives at Elegia to find the concertgoers all sleeping. They block their hearing to nullify Uta\\'s singing, but Uta assumes control of the concertgoers to overwhelm the Marines and remove their hearing blockers (\"Fleeting Lullaby\"). The Five Elders know that Uta has mere hours left to live and that if she dies, 70% of the world\\'s population would be trapped in the Sing-Sing World. Koby\\'s group helps the pirates free themselves by singing the note they correspond to on the staff, and the Straw Hats head towards the castle to find a weakness in Uta\\'s power.\\n', '\\n', 'In the library, Robin discovers that there is a way to make the worlds converge by summoning Tot Musica, a demonic entity whose existence spans both worlds. If Tot Musica is defeated simultaneously in both worlds, those in the Sing-Sing World will return to reality. Uta resumes her concert in the Sing-Sing World, but her audience begins to resist the idea of living in her world forever. Growing more and more unstable, Uta transforms all of them into inanimate objects. Luffy goes to confront Uta, and she reveals that Shanks abandoned her on Elegia after allegedly destroying and plundering it. Uta decides to kill Luffy in the real world, but is stopped by Shanks and his crew.\\n', '\\n', 'Shanks tries to help Uta, but Akainu orders for the Marines to fire on her without regard for the concertgoers, forcing the Red-Haired Pirates to go on the defensive. Terrified at the slaughtering of her subjects and slipping into delirium from the wake-shrooms, Uta summons Tot Musica (\"Tot Musica\"). She then attacks Luffy in the Sing-Sing World, but Gordon takes the blow instead. He reveals that Tot Musica was actually the one that destroyed Elegia 12 years ago after Uta accidentally summoned him, and Shanks left Uta on Elegia afterward so she could pursue a singing career without being a wanted pirate. Despite this revelation, Uta ends up being consumed by Tot Musica as it moves to consume both versions of Elegia, easily overpowering the pirates and Marines.\\n', '\\n', 'However, Usopp is able to attain a mental link with his father Yasopp via Observation Haki, and this allows the two of them to coordinate simultaneous attacks between the forces of both worlds. After a long and arduous battle, Luffy and Shanks strike the finishing blows to defeat Tot Musica. However, since it has already consumed everyone on Elegia, those in the Sing-Sing World do not return. Uta rejects a medicine from Shanks to cure the effects of the wake shrooms in order to sing a song that will bring back everyone (\"The World\\'s Continuation\"). Once she does this, the Marine forces move to seize her, but Shanks repels them with his Conqueror\\'s Haki.\\n', '\\n', \"As the Marines retreat, Shanks and Uta reconcile as father and daughter. Luffy wakes up on the Thousand Sunny after his crew has already departed Elegia. He is able to see the Red-Haired Pirates' ship sailing away and looks on at the crew standing over a coffin, presumably containing Uta's body.\\n\", '\\n']\n"
          ]
        }
      ],
      "source": [
        "print(text)"
      ]
    },
    {
      "cell_type": "code",
      "execution_count": null,
      "metadata": {
        "id": "zg0VAlKdnmPM"
      },
      "outputs": [],
      "source": [
        "text1=[tx.replace('\\n','') for tx in text]"
      ]
    },
    {
      "cell_type": "code",
      "execution_count": null,
      "metadata": {
        "id": "cEaTMbTpnmMg"
      },
      "outputs": [],
      "source": [
        "text_all=\"\""
      ]
    },
    {
      "cell_type": "code",
      "execution_count": null,
      "metadata": {
        "id": "V8QWOxbjnmJ1"
      },
      "outputs": [],
      "source": [
        "text_all1=text_all.join(text1)"
      ]
    },
    {
      "cell_type": "code",
      "execution_count": null,
      "metadata": {
        "colab": {
          "base_uri": "https://localhost:8080/",
          "height": 521
        },
        "id": "o_uLlJs9nmG8",
        "outputId": "061f9ebb-2955-453e-d009-e763bb9723d5"
      },
      "outputs": [
        {
          "data": {
            "application/vnd.google.colaboratory.intrinsic+json": {
              "type": "string"
            },
            "text/plain": [
              "'The Straw Hat Pirates leave for the island of Elegia to attend a concert by Uta, a world-famous singer. After Uta performs her first song (\"New Genesis\"), Luffy goes on stage to reunite with her, revealing that the two of them know each other because Uta is the adopted daughter of \"Red-Haired\" Shanks. They met when Shanks was based at Luffy\\'s hometown 12 years ago, but one day he returned from a voyage without her, claiming she had left to pursue a career as a singer.Some pirate crews then attempt to kidnap Uta, but she easily subdues them by conjuring whatever she wants through song (\"I\\'m Invincible\"). Afterward, Uta tells Luffy that he should stop being a pirate, as she is going to make this concert last forever and create a world with only happiness and peace. When the Straw Hats resist the idea, Uta attacks and traps all of them (\"Backlight\") except Luffy, who is rescued by Trafalgar Law and Bartolomeo. Meanwhile, the Five Elders ruling the World Government deem Uta\\'s power a great threat to the world, and Marine Fleet Admiral Akainu orders a convoy of battleships led by Admirals Kizaru and Fujitora to go to Elegia and subdue her.Luffy\\'s group is pursued by Uta and the concertgoers, and they meet Gordon, who is Uta\\'s adoptive father and the former king of Elegia. Gordon reveals that he raised Uta to be a great musician and kept her sheltered from the outside world, but when she attained worldwide fame, she began to learn of the suffering inflicted on a great number of her fans by pirates and so decided to put an end to the Pirate Era. Uta then arrives and forces Luffy\\'s group to escape, and Gordon pleads with her to not carry out her plan out of fear for her safety. However, Uta reveals she found an inscription of a song called \"Tot Musica\" that can unleash a great power, and immobilizes Gordon.Luffy\\'s group comes across Koby, Helmeppo, and Blueno who are operating undercover for the World Government. Koby reveals that Uta has the power of the Sing-Sing Fruit, which allows her to send people into a dream world known as the Sing-Sing World by singing to them. They and everyone else who watched the concert are trapped in this world, whose reality is completely controlled by Uta. The Sing-Sing World ceases to exist whenever Uta falls asleep; however, Uta has been consuming a drug called wake-shrooms that keeps her awake at all hours and drastically shortens her lifespan. If Uta were to die, everyone in the Sing-Sing World would be trapped there forever.In the real world, the Marine fleet arrives at Elegia to find the concertgoers all sleeping. They block their hearing to nullify Uta\\'s singing, but Uta assumes control of the concertgoers to overwhelm the Marines and remove their hearing blockers (\"Fleeting Lullaby\"). The Five Elders know that Uta has mere hours left to live and that if she dies, 70% of the world\\'s population would be trapped in the Sing-Sing World. Koby\\'s group helps the pirates free themselves by singing the note they correspond to on the staff, and the Straw Hats head towards the castle to find a weakness in Uta\\'s power.In the library, Robin discovers that there is a way to make the worlds converge by summoning Tot Musica, a demonic entity whose existence spans both worlds. If Tot Musica is defeated simultaneously in both worlds, those in the Sing-Sing World will return to reality. Uta resumes her concert in the Sing-Sing World, but her audience begins to resist the idea of living in her world forever. Growing more and more unstable, Uta transforms all of them into inanimate objects. Luffy goes to confront Uta, and she reveals that Shanks abandoned her on Elegia after allegedly destroying and plundering it. Uta decides to kill Luffy in the real world, but is stopped by Shanks and his crew.Shanks tries to help Uta, but Akainu orders for the Marines to fire on her without regard for the concertgoers, forcing the Red-Haired Pirates to go on the defensive. Terrified at the slaughtering of her subjects and slipping into delirium from the wake-shrooms, Uta summons Tot Musica (\"Tot Musica\"). She then attacks Luffy in the Sing-Sing World, but Gordon takes the blow instead. He reveals that Tot Musica was actually the one that destroyed Elegia 12 years ago after Uta accidentally summoned him, and Shanks left Uta on Elegia afterward so she could pursue a singing career without being a wanted pirate. Despite this revelation, Uta ends up being consumed by Tot Musica as it moves to consume both versions of Elegia, easily overpowering the pirates and Marines.However, Usopp is able to attain a mental link with his father Yasopp via Observation Haki, and this allows the two of them to coordinate simultaneous attacks between the forces of both worlds. After a long and arduous battle, Luffy and Shanks strike the finishing blows to defeat Tot Musica. However, since it has already consumed everyone on Elegia, those in the Sing-Sing World do not return. Uta rejects a medicine from Shanks to cure the effects of the wake shrooms in order to sing a song that will bring back everyone (\"The World\\'s Continuation\"). Once she does this, the Marine forces move to seize her, but Shanks repels them with his Conqueror\\'s Haki.As the Marines retreat, Shanks and Uta reconcile as father and daughter. Luffy wakes up on the Thousand Sunny after his crew has already departed Elegia. He is able to see the Red-Haired Pirates\\' ship sailing away and looks on at the crew standing over a coffin, presumably containing Uta\\'s body.'"
            ]
          },
          "execution_count": 43,
          "metadata": {},
          "output_type": "execute_result"
        }
      ],
      "source": [
        "text_all1"
      ]
    },
    {
      "cell_type": "code",
      "execution_count": null,
      "metadata": {
        "id": "4eQBFQZsnmEq"
      },
      "outputs": [],
      "source": [
        "sent_tokenize_list = sent_tokenize(text_all1)"
      ]
    },
    {
      "cell_type": "code",
      "execution_count": null,
      "metadata": {
        "id": "I3wv2F31nmD5"
      },
      "outputs": [],
      "source": []
    },
    {
      "cell_type": "code",
      "execution_count": null,
      "metadata": {
        "id": "e9rcMWLuDNGb"
      },
      "outputs": [],
      "source": []
    },
    {
      "cell_type": "code",
      "execution_count": null,
      "metadata": {
        "id": "Ws2BOWNbDNEZ"
      },
      "outputs": [],
      "source": [
        "from nltk.tokenize import word_tokenize"
      ]
    },
    {
      "cell_type": "code",
      "execution_count": null,
      "metadata": {
        "colab": {
          "base_uri": "https://localhost:8080/"
        },
        "id": "XqoywXg3DNB4",
        "outputId": "ca5ebbc5-f527-43f0-c079-b07478e92a50"
      },
      "outputs": [
        {
          "data": {
            "text/plain": [
              "['After',\n",
              " 'Uta',\n",
              " 'performs',\n",
              " 'her',\n",
              " 'first',\n",
              " 'song',\n",
              " '(',\n",
              " '``',\n",
              " 'New',\n",
              " 'Genesis',\n",
              " \"''\",\n",
              " ')',\n",
              " ',',\n",
              " 'Luffy',\n",
              " 'goes',\n",
              " 'on',\n",
              " 'stage',\n",
              " 'to',\n",
              " 'reunite',\n",
              " 'with',\n",
              " 'her',\n",
              " ',',\n",
              " 'revealing',\n",
              " 'that',\n",
              " 'the',\n",
              " 'two',\n",
              " 'of',\n",
              " 'them',\n",
              " 'know',\n",
              " 'each',\n",
              " 'other',\n",
              " 'because',\n",
              " 'Uta',\n",
              " 'is',\n",
              " 'the',\n",
              " 'adopted',\n",
              " 'daughter',\n",
              " 'of',\n",
              " '``',\n",
              " 'Red-Haired',\n",
              " \"''\",\n",
              " 'Shanks',\n",
              " '.']"
            ]
          },
          "execution_count": 46,
          "metadata": {},
          "output_type": "execute_result"
        }
      ],
      "source": [
        "word_tokenize(sent_tokenize_list[0])"
      ]
    },
    {
      "cell_type": "code",
      "execution_count": null,
      "metadata": {
        "id": "URcYkdVsDNAC"
      },
      "outputs": [],
      "source": []
    },
    {
      "cell_type": "code",
      "execution_count": null,
      "metadata": {
        "id": "t1uTJx9tDM_T"
      },
      "outputs": [],
      "source": [
        "from nltk.stem.porter import PorterStemmer"
      ]
    },
    {
      "cell_type": "code",
      "execution_count": null,
      "metadata": {
        "id": "-BVjBqIuDWhf"
      },
      "outputs": [],
      "source": [
        "word_tokens=word_tokenize(sent_tokenize_list[0])"
      ]
    },
    {
      "cell_type": "code",
      "execution_count": null,
      "metadata": {
        "id": "bBQaZ7hSDWfy"
      },
      "outputs": [],
      "source": [
        "porter_stemmer = PorterStemmer()"
      ]
    },
    {
      "cell_type": "code",
      "execution_count": null,
      "metadata": {
        "colab": {
          "base_uri": "https://localhost:8080/"
        },
        "id": "GRMcukB5DWfM",
        "outputId": "1095c37f-a8b2-4114-f0f2-7594ccaaec61"
      },
      "outputs": [
        {
          "data": {
            "text/plain": [
              "['the',\n",
              " 'straw',\n",
              " 'hat',\n",
              " 'pirat',\n",
              " 'leav',\n",
              " 'for',\n",
              " 'the',\n",
              " 'island',\n",
              " 'of',\n",
              " 'elegia',\n",
              " 'to',\n",
              " 'attend',\n",
              " 'a',\n",
              " 'concert',\n",
              " 'by',\n",
              " 'uta',\n",
              " ',',\n",
              " 'a',\n",
              " 'world-fam',\n",
              " 'singer',\n",
              " '.']"
            ]
          },
          "execution_count": 22,
          "metadata": {},
          "output_type": "execute_result"
        }
      ],
      "source": [
        "[porter_stemmer.stem(test) for test in word_tokens]\n"
      ]
    },
    {
      "cell_type": "code",
      "execution_count": null,
      "metadata": {
        "id": "PhNi3nVnDo0n"
      },
      "outputs": [],
      "source": [
        "from nltk.stem.lancaster import LancasterStemmer\n"
      ]
    },
    {
      "cell_type": "code",
      "execution_count": null,
      "metadata": {
        "id": "sXSj4E43Dr8h"
      },
      "outputs": [],
      "source": [
        "lancaster_stemmer = LancasterStemmer()\n"
      ]
    },
    {
      "cell_type": "code",
      "execution_count": null,
      "metadata": {
        "colab": {
          "base_uri": "https://localhost:8080/"
        },
        "id": "iN40kd7bDuoR",
        "outputId": "c9a102e9-e56c-497c-ae63-09358fcce844"
      },
      "outputs": [
        {
          "data": {
            "text/plain": [
              "['the',\n",
              " 'straw',\n",
              " 'hat',\n",
              " 'pir',\n",
              " 'leav',\n",
              " 'for',\n",
              " 'the',\n",
              " 'island',\n",
              " 'of',\n",
              " 'eleg',\n",
              " 'to',\n",
              " 'attend',\n",
              " 'a',\n",
              " 'concert',\n",
              " 'by',\n",
              " 'ut',\n",
              " ',',\n",
              " 'a',\n",
              " 'world-famous',\n",
              " 'sing',\n",
              " '.']"
            ]
          },
          "execution_count": 25,
          "metadata": {},
          "output_type": "execute_result"
        }
      ],
      "source": [
        "[lancaster_stemmer.stem(test) for test in word_tokens]\n"
      ]
    },
    {
      "cell_type": "code",
      "execution_count": null,
      "metadata": {
        "id": "q_rbVkIuDzGj"
      },
      "outputs": [],
      "source": []
    },
    {
      "cell_type": "code",
      "execution_count": null,
      "metadata": {
        "id": "TYaq4Ka4D4zZ"
      },
      "outputs": [],
      "source": [
        "from nltk.stem import SnowballStemmer"
      ]
    },
    {
      "cell_type": "code",
      "execution_count": null,
      "metadata": {
        "id": "oyWDfS7HD535"
      },
      "outputs": [],
      "source": [
        "snowball_stemmer = SnowballStemmer(\"english\")"
      ]
    },
    {
      "cell_type": "code",
      "execution_count": null,
      "metadata": {
        "colab": {
          "base_uri": "https://localhost:8080/"
        },
        "id": "BN_FTI5qD9Qq",
        "outputId": "55bf4439-833d-4e66-f37e-2aa4c52f0ab6"
      },
      "outputs": [
        {
          "data": {
            "text/plain": [
              "['the',\n",
              " 'straw',\n",
              " 'hat',\n",
              " 'pirat',\n",
              " 'leav',\n",
              " 'for',\n",
              " 'the',\n",
              " 'island',\n",
              " 'of',\n",
              " 'elegia',\n",
              " 'to',\n",
              " 'attend',\n",
              " 'a',\n",
              " 'concert',\n",
              " 'by',\n",
              " 'uta',\n",
              " ',',\n",
              " 'a',\n",
              " 'world-fam',\n",
              " 'singer',\n",
              " '.']"
            ]
          },
          "execution_count": 28,
          "metadata": {},
          "output_type": "execute_result"
        }
      ],
      "source": [
        "[snowball_stemmer.stem(test) for test in word_tokens]"
      ]
    },
    {
      "cell_type": "code",
      "execution_count": null,
      "metadata": {
        "id": "tJRMMYc1ENhp"
      },
      "outputs": [],
      "source": []
    },
    {
      "cell_type": "code",
      "execution_count": null,
      "metadata": {
        "id": "sG-QYxdhEADN"
      },
      "outputs": [],
      "source": [
        "from nltk.stem import WordNetLemmatizer\n"
      ]
    },
    {
      "cell_type": "code",
      "execution_count": null,
      "metadata": {
        "id": "15wOkjkiEVT2"
      },
      "outputs": [],
      "source": [
        "wordnet_lemmatizer = WordNetLemmatizer()\n"
      ]
    },
    {
      "cell_type": "code",
      "execution_count": null,
      "metadata": {
        "colab": {
          "base_uri": "https://localhost:8080/"
        },
        "id": "J8tXJGUzEYyc",
        "outputId": "3938cb54-c14f-4235-e200-5206f2338685"
      },
      "outputs": [
        {
          "data": {
            "text/plain": [
              "['The',\n",
              " 'Straw',\n",
              " 'Hat',\n",
              " 'Pirates',\n",
              " 'leave',\n",
              " 'for',\n",
              " 'the',\n",
              " 'island',\n",
              " 'of',\n",
              " 'Elegia',\n",
              " 'to',\n",
              " 'attend',\n",
              " 'a',\n",
              " 'concert',\n",
              " 'by',\n",
              " 'Uta',\n",
              " ',',\n",
              " 'a',\n",
              " 'world-famous',\n",
              " 'singer',\n",
              " '.']"
            ]
          },
          "execution_count": 34,
          "metadata": {},
          "output_type": "execute_result"
        }
      ],
      "source": [
        "[wordnet_lemmatizer.lemmatize(test) for test in word_tokens]"
      ]
    },
    {
      "cell_type": "code",
      "execution_count": null,
      "metadata": {
        "id": "9ZlnPSHnEfaH"
      },
      "outputs": [],
      "source": []
    },
    {
      "cell_type": "code",
      "execution_count": null,
      "metadata": {
        "id": "yNMJ3fdLEywo"
      },
      "outputs": [],
      "source": [
        "from pywsd.utils import lemmatize_sentence\n"
      ]
    },
    {
      "cell_type": "code",
      "execution_count": null,
      "metadata": {
        "colab": {
          "base_uri": "https://localhost:8080/"
        },
        "id": "AY-5MRKqEzZN",
        "outputId": "a1bec1df-8841-49e2-93f7-a71a85af979b"
      },
      "outputs": [
        {
          "data": {
            "text/plain": [
              "['mary', 'leave', 'the', 'room']"
            ]
          },
          "execution_count": 40,
          "metadata": {},
          "output_type": "execute_result"
        }
      ],
      "source": [
        "lemmatize_sentence(\"Mary leaves the room\")\n"
      ]
    },
    {
      "cell_type": "code",
      "execution_count": null,
      "metadata": {
        "colab": {
          "base_uri": "https://localhost:8080/"
        },
        "id": "ZbLdcTtzFubZ",
        "outputId": "aa6227ff-4a1b-44bf-bc7a-fcd8e302a36a"
      },
      "outputs": [
        {
          "data": {
            "text/plain": [
              "['dew', 'drop', 'fall', 'from', 'the', 'leaf']"
            ]
          },
          "execution_count": 41,
          "metadata": {},
          "output_type": "execute_result"
        }
      ],
      "source": [
        "lemmatize_sentence('Dew drops fall from the leaves')\n"
      ]
    }
  ],
  "metadata": {
    "colab": {
      "provenance": [],
      "toc_visible": true
    },
    "kernelspec": {
      "display_name": "Python 3",
      "name": "python3"
    },
    "language_info": {
      "name": "python",
      "version": "3.12.0"
    }
  },
  "nbformat": 4,
  "nbformat_minor": 0
}
